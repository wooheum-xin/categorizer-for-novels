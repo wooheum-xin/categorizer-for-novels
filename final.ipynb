{
 "cells": [
  {
   "cell_type": "markdown",
   "metadata": {},
   "source": [
    "# Write a categorizer\n",
    "\n",
    "## Wooheum Xin\n",
    "\n",
    "13 August 2022\n",
    "\n",
    "Introduction to Computational Literary Analysis\n",
    "\n",
    "Department of Digital Humanities, University of California, Berkeley\n",
    "\n",
    "Instructor: Jonathan Reeve\n"
   ]
  },
  {
   "cell_type": "code",
   "execution_count": 1,
   "metadata": {},
   "outputs": [
    {
     "name": "stderr",
     "output_type": "stream",
     "text": [
      "c:\\Users\\xin98\\.conda\\envs\\notebook\\lib\\site-packages\\scipy\\__init__.py:146: UserWarning: A NumPy version >=1.16.5 and <1.23.0 is required for this version of SciPy (detected version 1.23.1\n",
      "  warnings.warn(f\"A NumPy version >={np_minversion} and <{np_maxversion}\"\n"
     ]
    },
    {
     "name": "stdout",
     "output_type": "stream",
     "text": [
      "['SimSun']\n"
     ]
    }
   ],
   "source": [
    "import spacy\n",
    "import nltk\n",
    "import pandas as pd\n",
    "import sklearn\n",
    "import numpy as np\n",
    "import string\n",
    "import json\n",
    "import requests\n",
    "import random\n",
    "import seaborn as sns\n",
    "import matplotlib.pyplot as plt\n",
    "from tqdm.notebook import tqdm\n",
    "from collections import Counter\n",
    "from nltk.corpus import stopwords\n",
    "from sklearn.base import TransformerMixin\n",
    "from sklearn.feature_extraction._stop_words import ENGLISH_STOP_WORDS\n",
    "from sklearn.feature_extraction.text import CountVectorizer\n",
    "from sklearn.metrics import accuracy_score\n",
    "from sklearn.svm import LinearSVC\n",
    "from sklearn.pipeline import Pipeline\n",
    "from sklearn.model_selection import train_test_split\n",
    "from sklearn import metrics\n",
    "nlp = spacy.load('en_core_web_lg')\n",
    "import matplotlib\n",
    "plt.rc('font', family='SimSun')\n",
    "print(plt.rcParams['font.family'])"
   ]
  },
  {
   "cell_type": "markdown",
   "metadata": {},
   "source": [
    "### Go to corpus-db to see which subjects are available"
   ]
  },
  {
   "cell_type": "code",
   "execution_count": 2,
   "metadata": {},
   "outputs": [
    {
     "data": {
      "text/plain": [
       "[['Fiction', 1920],\n",
       " ['Short stories', 1581],\n",
       " ['Science fiction', 1283],\n",
       " ['Adventure stories', 766],\n",
       " ['Historical fiction', 634],\n",
       " ['Poetry', 633],\n",
       " ['Love stories', 619],\n",
       " [', ', 557],\n",
       " ['English wit and humor -- Periodicals', 555],\n",
       " ['Conduct of life -- Juvenile fiction', 554],\n",
       " ['Detective and mystery stories', 537],\n",
       " ['Western stories', 432],\n",
       " ['Man-woman relationships -- Fiction', 389],\n",
       " ['England -- Fiction', 309],\n",
       " ['Friendship -- Juvenile fiction', 307]]"
      ]
     },
     "execution_count": 2,
     "metadata": {},
     "output_type": "execute_result"
    }
   ],
   "source": [
    "baseURL = \"http://corpus-db.org\" \n",
    "allSubjects = requests.get(baseURL + \"/api/subjects\").text\n",
    "subjects = json.loads(allSubjects)\n",
    "subjects[:15]"
   ]
  },
  {
   "cell_type": "markdown",
   "metadata": {},
   "source": [
    "### Determined by four subjects\n",
    ">'Detective and mystery stories','Adventure stories','Love stories','Science fiction'"
   ]
  },
  {
   "cell_type": "code",
   "execution_count": 3,
   "metadata": {},
   "outputs": [],
   "source": [
    "sub_list=['Detective and mystery stories','Adventure stories','Love stories','Science fiction']\n",
    "AllMeta={} \n",
    "def getMeta(sub_list):\n",
    "    for sub in sub_list:\n",
    "        AllMeta[sub]=json.loads(requests.get(baseURL + \"/api/subject/\"+sub).text)\n",
    "getMeta(sub_list)"
   ]
  },
  {
   "cell_type": "markdown",
   "metadata": {},
   "source": [
    "### Appending a fixed number of novels in the Fulltext[]."
   ]
  },
  {
   "cell_type": "code",
   "execution_count": 13,
   "metadata": {},
   "outputs": [],
   "source": [
    "def Meta2Fulltext(Meta,num):\n",
    "    Fulltext,usefull_link=[],[]\n",
    "    counter=0\n",
    "    for index in range(len(Meta)):\n",
    "        start_num=Meta[index]['formats'].find('text/plain; charset=utf-8')+29\n",
    "        if(start_num==28):\n",
    "            start_num=Meta[index]['formats'].find(\"text/plain':\")+14\n",
    "            if(start_num==13):\n",
    "                continue\n",
    "        new_str=Meta[index]['formats'][start_num:]\n",
    "        weblink=new_str[:new_str.find(\"'\")]\n",
    "        if(weblink[-3:]=='zip'):\n",
    "            continue\n",
    "        usefull_link.append(weblink)\n",
    "        counter=counter+1\n",
    "        if(counter==num):\n",
    "            break\n",
    "    for index in tqdm(range(len(usefull_link))):\n",
    "        tmptext=requests.get(usefull_link[index])\n",
    "        Fulltext.append(tmptext.text)\n",
    "    return Fulltext"
   ]
  },
  {
   "cell_type": "code",
   "execution_count": 15,
   "metadata": {},
   "outputs": [
    {
     "name": "stdout",
     "output_type": "stream",
     "text": [
      "Loading :Detective and mystery stories\n"
     ]
    },
    {
     "data": {
      "application/vnd.jupyter.widget-view+json": {
       "model_id": "382f4f820a374b6ba2b903976a12edbf",
       "version_major": 2,
       "version_minor": 0
      },
      "text/plain": [
       "  0%|          | 0/100 [00:00<?, ?it/s]"
      ]
     },
     "metadata": {},
     "output_type": "display_data"
    },
    {
     "name": "stdout",
     "output_type": "stream",
     "text": [
      "Loading :Adventure stories\n"
     ]
    },
    {
     "data": {
      "application/vnd.jupyter.widget-view+json": {
       "model_id": "179a49c8655f4179b667d78035b2e150",
       "version_major": 2,
       "version_minor": 0
      },
      "text/plain": [
       "  0%|          | 0/100 [00:00<?, ?it/s]"
      ]
     },
     "metadata": {},
     "output_type": "display_data"
    },
    {
     "name": "stdout",
     "output_type": "stream",
     "text": [
      "Loading :Love stories\n"
     ]
    },
    {
     "data": {
      "application/vnd.jupyter.widget-view+json": {
       "model_id": "876a0254816e4191a02bdaf037f93f49",
       "version_major": 2,
       "version_minor": 0
      },
      "text/plain": [
       "  0%|          | 0/100 [00:00<?, ?it/s]"
      ]
     },
     "metadata": {},
     "output_type": "display_data"
    },
    {
     "name": "stdout",
     "output_type": "stream",
     "text": [
      "Loading :Science fiction\n"
     ]
    },
    {
     "data": {
      "application/vnd.jupyter.widget-view+json": {
       "model_id": "69523f23ecc143728e5a5376ff3f68f1",
       "version_major": 2,
       "version_minor": 0
      },
      "text/plain": [
       "  0%|          | 0/100 [00:00<?, ?it/s]"
      ]
     },
     "metadata": {},
     "output_type": "display_data"
    }
   ],
   "source": [
    "AllText={}\n",
    "for key, value in AllMeta.items():\n",
    "    print(\"Loading :\"+key)\n",
    "    AllText[key]=Meta2Fulltext(value,100)"
   ]
  },
  {
   "cell_type": "markdown",
   "metadata": {},
   "source": [
    "### Clearing any unwanted parts of the text."
   ]
  },
  {
   "cell_type": "code",
   "execution_count": 16,
   "metadata": {},
   "outputs": [],
   "source": [
    "STOPLIST = set(stopwords.words('english') + list(ENGLISH_STOP_WORDS))\n",
    "SYMBOLS = \" \".join(string.punctuation).split(\" \") + [\"-\", \"...\", \"”\", \"”\"]\n",
    "def Get_Text(ALLTexts):\n",
    "    df=pd.DataFrame(columns=['subject','novel'])\n",
    "    for cate,novel in ALLTexts.items():\n",
    "        for text in novel:\n",
    "            end_num=text.find(\"*** END OF \")\n",
    "            start_num=text.find(\"*** START OF \")+3\n",
    "            tmp=text[start_num:].find(\"***\")+3\n",
    "            finalText=text[start_num+tmp:end_num]\n",
    "            finalText = finalText.strip().replace(\"\\n\", \" \").replace(\"\\r\", \" \")\n",
    "            finalText = finalText.lower()\n",
    "            df.loc[len(df.index)]=[cate,finalText ]\n",
    "    return df"
   ]
  },
  {
   "cell_type": "markdown",
   "metadata": {},
   "source": [
    "### Separating 33% of the dataset for testing purposes"
   ]
  },
  {
   "cell_type": "code",
   "execution_count": 17,
   "metadata": {},
   "outputs": [
    {
     "name": "stdout",
     "output_type": "stream",
     "text": [
      "Training Data Shape: (268, 2)\n",
      "Testing Data Shape: (132, 2)\n"
     ]
    }
   ],
   "source": [
    "AllCleanText=Get_Text(AllText)\n",
    "train, test = train_test_split(AllCleanText, test_size=0.33, random_state=42)\n",
    "print('Training Data Shape:', train.shape)\n",
    "print('Testing Data Shape:', test.shape)"
   ]
  },
  {
   "cell_type": "markdown",
   "metadata": {},
   "source": [
    "### Use spaCy for text preprocessing, and then try to find the most used word in each subject"
   ]
  },
  {
   "cell_type": "code",
   "execution_count": 25,
   "metadata": {},
   "outputs": [
    {
     "data": {
      "application/vnd.jupyter.widget-view+json": {
       "model_id": "d58e6cec205f4f2a8b00658438ee98b5",
       "version_major": 2,
       "version_minor": 0
      },
      "text/plain": [
       "  0%|          | 0/61 [00:00<?, ?it/s]"
      ]
     },
     "metadata": {},
     "output_type": "display_data"
    },
    {
     "data": {
      "application/vnd.jupyter.widget-view+json": {
       "model_id": "7d79a9746d1247038baea4d2dd544b3e",
       "version_major": 2,
       "version_minor": 0
      },
      "text/plain": [
       "  0%|          | 0/70 [00:00<?, ?it/s]"
      ]
     },
     "metadata": {},
     "output_type": "display_data"
    },
    {
     "data": {
      "application/vnd.jupyter.widget-view+json": {
       "model_id": "7c8ccbd38d3149d092ebef5f86e4db67",
       "version_major": 2,
       "version_minor": 0
      },
      "text/plain": [
       "  0%|          | 0/69 [00:00<?, ?it/s]"
      ]
     },
     "metadata": {},
     "output_type": "display_data"
    },
    {
     "data": {
      "application/vnd.jupyter.widget-view+json": {
       "model_id": "79ff8764b9d44bacbdef66ff844c8abf",
       "version_major": 2,
       "version_minor": 0
      },
      "text/plain": [
       "  0%|          | 0/68 [00:00<?, ?it/s]"
      ]
     },
     "metadata": {},
     "output_type": "display_data"
    }
   ],
   "source": [
    "nlp.max_length = 20000000\n",
    "punctuations = string.punctuation\n",
    "def cleanup_text(docs, logging=True):\n",
    "    texts = []\n",
    "    counter = 1\n",
    "    pbar=tqdm(docs)\n",
    "    for doc in pbar:\n",
    "        if counter % 1000 != 0 and logging:\n",
    "            pbar.set_description(\"Processing %s\" %counter)\n",
    "            # print(\"Processed %d out of %d documents.\" % (counter, len(docs)))\n",
    "        counter += 1\n",
    "        doc = nlp(doc, disable=['parser', 'ner'])\n",
    "        tokens = [tok.lemma_.lower().strip() for tok in doc if tok.lemma_ != '-PRON-']\n",
    "        tokens = [tok for tok in tokens if tok not in STOPLIST and tok not in punctuations]\n",
    "        tokens = ' '.join(tokens)\n",
    "        texts.append(tokens)\n",
    "    return pd.Series(texts)\n",
    "clean_text={}\n",
    "for sub in sub_list:\n",
    "    clean_text[sub]=[text for text in train[train['subject'] == sub]['novel']]\n",
    "    clean_text[sub]=' '.join(cleanup_text(clean_text[sub])).split()"
   ]
  },
  {
   "cell_type": "code",
   "execution_count": 26,
   "metadata": {},
   "outputs": [
    {
     "name": "stderr",
     "output_type": "stream",
     "text": [
      "c:\\Users\\xin98\\.conda\\envs\\notebook\\lib\\site-packages\\IPython\\core\\pylabtools.py:151: UserWarning: Glyph 128 (\\x80) missing from current font.\n",
      "  fig.canvas.print_figure(bytes_io, **kw)\n",
      "c:\\Users\\xin98\\.conda\\envs\\notebook\\lib\\site-packages\\IPython\\core\\pylabtools.py:151: UserWarning: Glyph 157 (\\x9d) missing from current font.\n",
      "  fig.canvas.print_figure(bytes_io, **kw)\n",
      "c:\\Users\\xin98\\.conda\\envs\\notebook\\lib\\site-packages\\IPython\\core\\pylabtools.py:151: UserWarning: Glyph 156 (\\x9c) missing from current font.\n",
      "  fig.canvas.print_figure(bytes_io, **kw)\n"
     ]
    },
    {
     "data": {
      "image/png": "[encoded data removed]",
      "text/plain": [
       "<Figure size 1296x432 with 1 Axes>"
      ]
     },
     "metadata": {
      "needs_background": "light"
     },
     "output_type": "display_data"
    },
    {
     "name": "stderr",
     "output_type": "stream",
     "text": [
      "c:\\Users\\xin98\\.conda\\envs\\notebook\\lib\\site-packages\\IPython\\core\\pylabtools.py:151: UserWarning: Glyph 128 (\\x80) missing from current font.\n",
      "  fig.canvas.print_figure(bytes_io, **kw)\n",
      "c:\\Users\\xin98\\.conda\\envs\\notebook\\lib\\site-packages\\IPython\\core\\pylabtools.py:151: UserWarning: Glyph 157 (\\x9d) missing from current font.\n",
      "  fig.canvas.print_figure(bytes_io, **kw)\n"
     ]
    },
    {
     "data": {
      "image/png": "[encoded data removed]",
      "text/plain": [
       "<Figure size 1296x432 with 1 Axes>"
      ]
     },
     "metadata": {
      "needs_background": "light"
     },
     "output_type": "display_data"
    },
    {
     "name": "stderr",
     "output_type": "stream",
     "text": [
      "c:\\Users\\xin98\\.conda\\envs\\notebook\\lib\\site-packages\\IPython\\core\\pylabtools.py:151: UserWarning: Glyph 128 (\\x80) missing from current font.\n",
      "  fig.canvas.print_figure(bytes_io, **kw)\n",
      "c:\\Users\\xin98\\.conda\\envs\\notebook\\lib\\site-packages\\IPython\\core\\pylabtools.py:151: UserWarning: Glyph 157 (\\x9d) missing from current font.\n",
      "  fig.canvas.print_figure(bytes_io, **kw)\n"
     ]
    },
    {
     "data": {
      "image/png": "[encoded data removed]",
      "text/plain": [
       "<Figure size 1296x432 with 1 Axes>"
      ]
     },
     "metadata": {
      "needs_background": "light"
     },
     "output_type": "display_data"
    },
    {
     "name": "stderr",
     "output_type": "stream",
     "text": [
      "c:\\Users\\xin98\\.conda\\envs\\notebook\\lib\\site-packages\\IPython\\core\\pylabtools.py:151: UserWarning: Glyph 128 (\\x80) missing from current font.\n",
      "  fig.canvas.print_figure(bytes_io, **kw)\n",
      "c:\\Users\\xin98\\.conda\\envs\\notebook\\lib\\site-packages\\IPython\\core\\pylabtools.py:151: UserWarning: Glyph 157 (\\x9d) missing from current font.\n",
      "  fig.canvas.print_figure(bytes_io, **kw)\n"
     ]
    },
    {
     "data": {
      "image/png": "[encoded data removed]",
      "text/plain": [
       "<Figure size 1296x432 with 1 Axes>"
      ]
     },
     "metadata": {
      "needs_background": "light"
     },
     "output_type": "display_data"
    }
   ],
   "source": [
    "for sub in sub_list:\n",
    "    counts=Counter(clean_text[sub])\n",
    "    common_words=[word[0] for word in counts.most_common(20)]\n",
    "    common_counts= [word[1] for word in counts.most_common(20)]\n",
    "    fig = plt.figure(figsize=(18,6))\n",
    "    sns.barplot(x=common_words, y=common_counts)\n",
    "    plt.title('Most Common Words used in the subject for '+sub)\n",
    "    plt.rc('font', family='Malgun Gothic')\n",
    "    plt.show()"
   ]
  },
  {
   "cell_type": "markdown",
   "metadata": {},
   "source": [
    "## Machine Learning with SpaCy\n",
    "### First we load the spacy model Create language processing objects.Then clean up the text with spaCy.Finally, we define a function to show the most significant features, with the highest correlation coefficients"
   ]
  },
  {
   "cell_type": "code",
   "execution_count": 30,
   "metadata": {},
   "outputs": [],
   "source": [
    "nlp.max_length = 30000000\n",
    "def cleanText_spacy(text):\n",
    "    text = text.strip().replace(\"\\n\", \" \").replace(\"\\r\", \" \")\n",
    "    text = text.lower()\n",
    "    return text\n",
    "class CleanTextTransformer(TransformerMixin):   \n",
    "    def transform(self, X, **transform_params):\n",
    "        return [cleanText_spacy(text) for text in X]\n",
    "    def fit(self, X, y=None, **fit_params):\n",
    "        return self\n",
    "    def get_params(self, deep=True):\n",
    "        return {}\n",
    "def tokenizeText(sample):\n",
    "    tokens = nlp(sample)\n",
    "    lemmas = []\n",
    "    for tok in tokens:\n",
    "        lemmas.append(tok.lemma_.lower().strip() if tok.lemma_ != \"-PRON-\" else tok.lower_)\n",
    "    tokens = [tok for tok in lemmas if tok not in [list(STOPLIST)+SYMBOLS]]\n",
    "    return tokens\n",
    "def printNMostInformative(vectorizer, clf, N):\n",
    "    feature_names = vectorizer.get_feature_names_out()\n",
    "    subject_with_fns = sorted(zip(clf.coef_[0], feature_names))\n",
    "    topClass1 = subject_with_fns[:N]\n",
    "    topClass2 = subject_with_fns[:-(N + 1):-1]\n",
    "    print(\"Class 1 best: \")\n",
    "    for feat in topClass1:\n",
    "        print(feat)\n",
    "    print(\"Class 2 best: \")\n",
    "    for feat in topClass2:\n",
    "        print(feat)\n",
    "vectorizer = CountVectorizer(tokenizer=tokenizeText, ngram_range=(1,2))\n",
    "clf = LinearSVC(max_iter=1500000,verbose=True)\n",
    "pipe = Pipeline([('cleanText', CleanTextTransformer()), ('vectorizer', vectorizer), ('clf', clf)])"
   ]
  },
  {
   "cell_type": "code",
   "execution_count": 31,
   "metadata": {},
   "outputs": [],
   "source": [
    "# data\n",
    "train1 = train['novel'].tolist()\n",
    "labelsTrain1 = train['subject'].tolist()\n",
    "test1 = test['novel'].tolist()\n",
    "labelsTest1 = test['subject'].tolist()"
   ]
  },
  {
   "cell_type": "code",
   "execution_count": 32,
   "metadata": {},
   "outputs": [
    {
     "name": "stdout",
     "output_type": "stream",
     "text": [
      "[LibLinear]"
     ]
    },
    {
     "name": "stderr",
     "output_type": "stream",
     "text": [
      "c:\\Users\\xin98\\.conda\\envs\\notebook\\lib\\site-packages\\sklearn\\svm\\_base.py:1206: ConvergenceWarning: Liblinear failed to converge, increase the number of iterations.\n",
      "  warnings.warn(\n"
     ]
    },
    {
     "data": {
      "text/plain": [
       "Pipeline(steps=[('cleanText',\n",
       "                 <__main__.CleanTextTransformer object at 0x000002113D5A4E20>),\n",
       "                ('vectorizer',\n",
       "                 CountVectorizer(ngram_range=(1, 2),\n",
       "                                 tokenizer=<function tokenizeText at 0x0000021140CE5B80>)),\n",
       "                ('clf', LinearSVC(max_iter=1500000, verbose=True))])"
      ]
     },
     "execution_count": 32,
     "metadata": {},
     "output_type": "execute_result"
    }
   ],
   "source": [
    "# train\n",
    "pipe.fit(train1, labelsTrain1)"
   ]
  },
  {
   "cell_type": "code",
   "execution_count": 33,
   "metadata": {},
   "outputs": [
    {
     "name": "stdout",
     "output_type": "stream",
     "text": [
      "accuracy: 0.6590909090909091\n",
      "Top 10 features used to predict: \n",
      "Class 1 best: \n",
      "(-0.002433847469856842, 'detective')\n",
      "(-0.0024188049136491855, ':')\n",
      "(-0.0024100473245777724, 'in')\n",
      "(-0.0019844925803132844, 'holmes')\n",
      "(-0.0016926928753638727, '. ')\n",
      "(-0.0016855530427168576, 'it')\n",
      "(-0.0016536205219722887, 'read')\n",
      "(-0.0015528777223386594, 'you')\n",
      "(-0.0015312585961045255, ': ')\n",
      "(-0.0014776630946859684, 'elephant')\n",
      "Class 2 best: \n",
      "(0.003736269998201579, ' the')\n",
      "(0.002085738187814468, 'on')\n",
      "(0.0018620159926107229, 'cleggett')\n",
      "(0.0017630686206821303, 'boy')\n",
      "(0.0016264766683094017, 'harry')\n",
      "(0.0015937568512690318, 'lion')\n",
      "(0.0015660868016241503, '. .')\n",
      "(0.0015097318678284123, 'rob')\n",
      "(0.0014806946786881587, 'very')\n",
      "(0.0013985720118322542, 'he')\n"
     ]
    }
   ],
   "source": [
    "# test\n",
    "preds = pipe.predict(test1)\n",
    "print(\"accuracy:\", accuracy_score(labelsTest1, preds))\n",
    "print(\"Top 10 features used to predict: \")\n",
    "printNMostInformative(vectorizer, clf, 10)"
   ]
  },
  {
   "cell_type": "code",
   "execution_count": 34,
   "metadata": {},
   "outputs": [],
   "source": [
    "pipe = Pipeline([('cleanText', CleanTextTransformer()), ('vectorizer', vectorizer)])\n",
    "transform = pipe.fit_transform(train1, labelsTrain1)\n",
    "vocab = vectorizer.get_feature_names_out()\n",
    "for i in range(len(train1)):\n",
    "    s = \"\"\n",
    "    indexIntoVocab = transform.indices[transform.indptr[i]:transform.indptr[i+1]]\n",
    "    numOccurences = transform.data[transform.indptr[i]:transform.indptr[i+1]]\n",
    "    for idx, num in zip(indexIntoVocab, numOccurences):\n",
    "        s += str((vocab[idx], num))"
   ]
  },
  {
   "cell_type": "markdown",
   "metadata": {},
   "source": [
    "### Calculation accuracy, recall, F1 score:"
   ]
  },
  {
   "cell_type": "code",
   "execution_count": 35,
   "metadata": {},
   "outputs": [
    {
     "name": "stdout",
     "output_type": "stream",
     "text": [
      "                               precision    recall  f1-score   support\n",
      "\n",
      "Detective and mystery stories       0.54      0.67      0.60        30\n",
      "            Adventure stories       0.77      0.69      0.73        39\n",
      "                 Love stories       0.64      0.58      0.61        31\n",
      "              Science fiction       0.69      0.69      0.69        32\n",
      "\n",
      "                     accuracy                           0.66       132\n",
      "                    macro avg       0.66      0.66      0.66       132\n",
      "                 weighted avg       0.67      0.66      0.66       132\n",
      "\n"
     ]
    }
   ],
   "source": [
    "from sklearn import metrics\n",
    "print(metrics.classification_report(labelsTest1, preds, target_names=sub_list))"
   ]
  }
 ],
 "metadata": {
  "kernelspec": {
   "display_name": "Python 3.9.12 ('notebook')",
   "language": "python",
   "name": "python3"
  },
  "language_info": {
   "codemirror_mode": {
    "name": "ipython",
    "version": 3
   },
   "file_extension": ".py",
   "mimetype": "text/x-python",
   "name": "python",
   "nbconvert_exporter": "python",
   "pygments_lexer": "ipython3",
   "version": "3.9.12"
  },
  "orig_nbformat": 4,
  "vscode": {
   "interpreter": {
    "hash": "98610404e4cea0688f837f10e73ecc4df58f27266ebad8bacdb4a3fb12a86a2e"
   }
  }
 },
 "nbformat": 4,
 "nbformat_minor": 2
}
